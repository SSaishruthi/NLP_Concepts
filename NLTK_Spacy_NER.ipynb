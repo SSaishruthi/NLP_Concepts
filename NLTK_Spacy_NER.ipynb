{
 "cells": [
  {
   "cell_type": "markdown",
   "metadata": {},
   "source": [
    "# NER"
   ]
  },
  {
   "cell_type": "markdown",
   "metadata": {},
   "source": [
    "# 1. NLTK"
   ]
  },
  {
   "cell_type": "code",
   "execution_count": 1,
   "metadata": {},
   "outputs": [],
   "source": [
    "import nltk\n",
    "from nltk.chunk import conlltags2tree, tree2conlltags\n",
    "from pprint import pprint"
   ]
  },
  {
   "cell_type": "code",
   "execution_count": 2,
   "metadata": {},
   "outputs": [
    {
     "name": "stderr",
     "output_type": "stream",
     "text": [
      "[nltk_data] Downloading package punkt to\n",
      "[nltk_data]     /Users/saishruthi.tn@ibm.com/nltk_data...\n",
      "[nltk_data]   Package punkt is already up-to-date!\n",
      "[nltk_data] Downloading package averaged_perceptron_tagger to\n",
      "[nltk_data]     /Users/saishruthi.tn@ibm.com/nltk_data...\n",
      "[nltk_data]   Package averaged_perceptron_tagger is already up-to-\n",
      "[nltk_data]       date!\n",
      "[nltk_data] Downloading package maxent_ne_chunker to\n",
      "[nltk_data]     /Users/saishruthi.tn@ibm.com/nltk_data...\n",
      "[nltk_data]   Package maxent_ne_chunker is already up-to-date!\n",
      "[nltk_data] Downloading package words to\n",
      "[nltk_data]     /Users/saishruthi.tn@ibm.com/nltk_data...\n",
      "[nltk_data]   Package words is already up-to-date!\n"
     ]
    },
    {
     "data": {
      "text/plain": [
       "True"
      ]
     },
     "execution_count": 2,
     "metadata": {},
     "output_type": "execute_result"
    }
   ],
   "source": [
    "nltk.download('punkt')\n",
    "nltk.download('averaged_perceptron_tagger')\n",
    "nltk.download('maxent_ne_chunker')\n",
    "nltk.download('words')"
   ]
  },
  {
   "cell_type": "markdown",
   "metadata": {},
   "source": [
    "Data from : https://www.cnn.com/2019/01/20/tech/facebook-sheryl-sandberg-election-interference/index.html"
   ]
  },
  {
   "cell_type": "code",
   "execution_count": 3,
   "metadata": {},
   "outputs": [],
   "source": [
    "input_data = \"Facebook will partner with German officials ahead of the European Union elections in May to crack down on fake accounts and misinformation.Sheryl Sandberg said the company will work with the German Federal Office for Information and Security as well as other companies and research partners to help guide policy making in Germany and across the EU on election interference.\""
   ]
  },
  {
   "cell_type": "code",
   "execution_count": 4,
   "metadata": {},
   "outputs": [
    {
     "data": {
      "text/plain": [
       "'Facebook will partner with German officials ahead of the European Union elections in May to crack down on fake accounts and misinformation.Sheryl Sandberg said the company will work with the German Federal Office for Information and Security as well as other companies and research partners to help guide policy making in Germany and across the EU on election interference.'"
      ]
     },
     "execution_count": 4,
     "metadata": {},
     "output_type": "execute_result"
    }
   ],
   "source": [
    "input_data"
   ]
  },
  {
   "cell_type": "markdown",
   "metadata": {},
   "source": [
    "## 1.1 Tokenize "
   ]
  },
  {
   "cell_type": "code",
   "execution_count": 5,
   "metadata": {},
   "outputs": [],
   "source": [
    "input_data_tokens = nltk.word_tokenize(input_data)"
   ]
  },
  {
   "cell_type": "code",
   "execution_count": 6,
   "metadata": {},
   "outputs": [
    {
     "data": {
      "text/plain": [
       "['Facebook',\n",
       " 'will',\n",
       " 'partner',\n",
       " 'with',\n",
       " 'German',\n",
       " 'officials',\n",
       " 'ahead',\n",
       " 'of',\n",
       " 'the',\n",
       " 'European',\n",
       " 'Union',\n",
       " 'elections',\n",
       " 'in',\n",
       " 'May',\n",
       " 'to',\n",
       " 'crack',\n",
       " 'down',\n",
       " 'on',\n",
       " 'fake',\n",
       " 'accounts',\n",
       " 'and',\n",
       " 'misinformation.Sheryl',\n",
       " 'Sandberg',\n",
       " 'said',\n",
       " 'the',\n",
       " 'company',\n",
       " 'will',\n",
       " 'work',\n",
       " 'with',\n",
       " 'the',\n",
       " 'German',\n",
       " 'Federal',\n",
       " 'Office',\n",
       " 'for',\n",
       " 'Information',\n",
       " 'and',\n",
       " 'Security',\n",
       " 'as',\n",
       " 'well',\n",
       " 'as',\n",
       " 'other',\n",
       " 'companies',\n",
       " 'and',\n",
       " 'research',\n",
       " 'partners',\n",
       " 'to',\n",
       " 'help',\n",
       " 'guide',\n",
       " 'policy',\n",
       " 'making',\n",
       " 'in',\n",
       " 'Germany',\n",
       " 'and',\n",
       " 'across',\n",
       " 'the',\n",
       " 'EU',\n",
       " 'on',\n",
       " 'election',\n",
       " 'interference',\n",
       " '.']"
      ]
     },
     "execution_count": 6,
     "metadata": {},
     "output_type": "execute_result"
    }
   ],
   "source": [
    "input_data_tokens"
   ]
  },
  {
   "cell_type": "markdown",
   "metadata": {},
   "source": [
    "## 1.2 Extract POS and IOB tag with entity"
   ]
  },
  {
   "cell_type": "code",
   "execution_count": 7,
   "metadata": {},
   "outputs": [
    {
     "name": "stdout",
     "output_type": "stream",
     "text": [
      "[('Facebook', 'NNP', 'B-GPE'), ('will', 'MD', 'O'), ('partner', 'NN', 'O'), ('with', 'IN', 'O'), ('German', 'JJ', 'B-GPE'), ('officials', 'NNS', 'O'), ('ahead', 'RB', 'O'), ('of', 'IN', 'O'), ('the', 'DT', 'O'), ('European', 'NNP', 'B-ORGANIZATION'), ('Union', 'NNP', 'I-ORGANIZATION'), ('elections', 'NNS', 'O'), ('in', 'IN', 'O'), ('May', 'NNP', 'O'), ('to', 'TO', 'O'), ('crack', 'VB', 'O'), ('down', 'RP', 'O'), ('on', 'IN', 'O'), ('fake', 'JJ', 'O'), ('accounts', 'NNS', 'O'), ('and', 'CC', 'O'), ('misinformation.Sheryl', 'NN', 'O'), ('Sandberg', 'NNP', 'B-PERSON'), ('said', 'VBD', 'O'), ('the', 'DT', 'O'), ('company', 'NN', 'O'), ('will', 'MD', 'O'), ('work', 'VB', 'O'), ('with', 'IN', 'O'), ('the', 'DT', 'O'), ('German', 'JJ', 'B-ORGANIZATION'), ('Federal', 'NNP', 'I-ORGANIZATION'), ('Office', 'NNP', 'O'), ('for', 'IN', 'O'), ('Information', 'NNP', 'B-ORGANIZATION'), ('and', 'CC', 'O'), ('Security', 'NNP', 'B-ORGANIZATION'), ('as', 'RB', 'O'), ('well', 'RB', 'O'), ('as', 'IN', 'O'), ('other', 'JJ', 'O'), ('companies', 'NNS', 'O'), ('and', 'CC', 'O'), ('research', 'NN', 'O'), ('partners', 'NNS', 'O'), ('to', 'TO', 'O'), ('help', 'VB', 'O'), ('guide', 'VB', 'O'), ('policy', 'NN', 'O'), ('making', 'NN', 'O'), ('in', 'IN', 'O'), ('Germany', 'NNP', 'B-GPE'), ('and', 'CC', 'O'), ('across', 'IN', 'O'), ('the', 'DT', 'O'), ('EU', 'NNP', 'B-GPE'), ('on', 'IN', 'O'), ('election', 'NN', 'O'), ('interference', 'NN', 'O'), ('.', '.', 'O')]\n"
     ]
    }
   ],
   "source": [
    "ne_tree = nltk.ne_chunk(nltk.pos_tag(nltk.word_tokenize(input_data)))\n",
    "iob_tagged = tree2conlltags(ne_tree)\n",
    "print (iob_tagged)"
   ]
  },
  {
   "cell_type": "markdown",
   "metadata": {},
   "source": [
    "## 1.3 part of speech tagging"
   ]
  },
  {
   "cell_type": "code",
   "execution_count": 8,
   "metadata": {},
   "outputs": [],
   "source": [
    "input_data_pos = nltk.pos_tag(input_data_tokens)"
   ]
  },
  {
   "cell_type": "code",
   "execution_count": 9,
   "metadata": {},
   "outputs": [
    {
     "data": {
      "text/plain": [
       "[('Facebook', 'NNP'),\n",
       " ('will', 'MD'),\n",
       " ('partner', 'NN'),\n",
       " ('with', 'IN'),\n",
       " ('German', 'JJ'),\n",
       " ('officials', 'NNS'),\n",
       " ('ahead', 'RB'),\n",
       " ('of', 'IN'),\n",
       " ('the', 'DT'),\n",
       " ('European', 'NNP'),\n",
       " ('Union', 'NNP'),\n",
       " ('elections', 'NNS'),\n",
       " ('in', 'IN'),\n",
       " ('May', 'NNP'),\n",
       " ('to', 'TO'),\n",
       " ('crack', 'VB'),\n",
       " ('down', 'RP'),\n",
       " ('on', 'IN'),\n",
       " ('fake', 'JJ'),\n",
       " ('accounts', 'NNS'),\n",
       " ('and', 'CC'),\n",
       " ('misinformation.Sheryl', 'NN'),\n",
       " ('Sandberg', 'NNP'),\n",
       " ('said', 'VBD'),\n",
       " ('the', 'DT'),\n",
       " ('company', 'NN'),\n",
       " ('will', 'MD'),\n",
       " ('work', 'VB'),\n",
       " ('with', 'IN'),\n",
       " ('the', 'DT'),\n",
       " ('German', 'JJ'),\n",
       " ('Federal', 'NNP'),\n",
       " ('Office', 'NNP'),\n",
       " ('for', 'IN'),\n",
       " ('Information', 'NNP'),\n",
       " ('and', 'CC'),\n",
       " ('Security', 'NNP'),\n",
       " ('as', 'RB'),\n",
       " ('well', 'RB'),\n",
       " ('as', 'IN'),\n",
       " ('other', 'JJ'),\n",
       " ('companies', 'NNS'),\n",
       " ('and', 'CC'),\n",
       " ('research', 'NN'),\n",
       " ('partners', 'NNS'),\n",
       " ('to', 'TO'),\n",
       " ('help', 'VB'),\n",
       " ('guide', 'VB'),\n",
       " ('policy', 'NN'),\n",
       " ('making', 'NN'),\n",
       " ('in', 'IN'),\n",
       " ('Germany', 'NNP'),\n",
       " ('and', 'CC'),\n",
       " ('across', 'IN'),\n",
       " ('the', 'DT'),\n",
       " ('EU', 'NNP'),\n",
       " ('on', 'IN'),\n",
       " ('election', 'NN'),\n",
       " ('interference', 'NN'),\n",
       " ('.', '.')]"
      ]
     },
     "execution_count": 9,
     "metadata": {},
     "output_type": "execute_result"
    }
   ],
   "source": [
    "input_data_pos"
   ]
  },
  {
   "cell_type": "code",
   "execution_count": 12,
   "metadata": {},
   "outputs": [
    {
     "name": "stdout",
     "output_type": "stream",
     "text": [
      "(S\n",
      "  Facebook/NNP\n",
      "  will/MD\n",
      "  (NP partner/NN)\n",
      "  with/IN\n",
      "  German/JJ\n",
      "  officials/NNS\n",
      "  ahead/RB\n",
      "  of/IN\n",
      "  the/DT\n",
      "  European/NNP\n",
      "  Union/NNP\n",
      "  elections/NNS\n",
      "  in/IN\n",
      "  May/NNP\n",
      "  to/TO\n",
      "  crack/VB\n",
      "  down/RP\n",
      "  on/IN\n",
      "  fake/JJ\n",
      "  accounts/NNS\n",
      "  and/CC\n",
      "  (NP misinformation.Sheryl/NN)\n",
      "  Sandberg/NNP\n",
      "  said/VBD\n",
      "  (NP the/DT company/NN)\n",
      "  will/MD\n",
      "  work/VB\n",
      "  with/IN\n",
      "  the/DT\n",
      "  German/JJ\n",
      "  Federal/NNP\n",
      "  Office/NNP\n",
      "  for/IN\n",
      "  Information/NNP\n",
      "  and/CC\n",
      "  Security/NNP\n",
      "  as/RB\n",
      "  well/RB\n",
      "  as/IN\n",
      "  other/JJ\n",
      "  companies/NNS\n",
      "  and/CC\n",
      "  (NP research/NN)\n",
      "  partners/NNS\n",
      "  to/TO\n",
      "  help/VB\n",
      "  guide/VB\n",
      "  (NP policy/NN)\n",
      "  (NP making/NN)\n",
      "  in/IN\n",
      "  Germany/NNP\n",
      "  and/CC\n",
      "  across/IN\n",
      "  the/DT\n",
      "  EU/NNP\n",
      "  on/IN\n",
      "  (NP election/NN)\n",
      "  (NP interference/NN)\n",
      "  ./.)\n"
     ]
    }
   ],
   "source": [
    "#Chunk the sentence\n",
    "# Extracting noun phrase: formed whenever the chunker finds an optional determiner (DT), \n",
    "# followed by any number of adjectives (JJ) , and then a noun, (NN).\n",
    "pattern = 'NP: {<DT>?<JJ>*<NN>}'\n",
    "chunk_pattern = nltk.RegexpParser(pattern)\n",
    "input_data_chunk = chunk_pattern.parse(input_data_pos)\n",
    "print(input_data_chunk)"
   ]
  },
  {
   "cell_type": "code",
   "execution_count": 13,
   "metadata": {},
   "outputs": [],
   "source": [
    "input_data_chunk.draw()"
   ]
  },
  {
   "cell_type": "code",
   "execution_count": 14,
   "metadata": {},
   "outputs": [
    {
     "name": "stdout",
     "output_type": "stream",
     "text": [
      "[('Facebook', 'NNP', 'O'),\n",
      " ('will', 'MD', 'O'),\n",
      " ('partner', 'NN', 'B-NP'),\n",
      " ('with', 'IN', 'O'),\n",
      " ('German', 'JJ', 'O'),\n",
      " ('officials', 'NNS', 'O'),\n",
      " ('ahead', 'RB', 'O'),\n",
      " ('of', 'IN', 'O'),\n",
      " ('the', 'DT', 'O'),\n",
      " ('European', 'NNP', 'O'),\n",
      " ('Union', 'NNP', 'O'),\n",
      " ('elections', 'NNS', 'O'),\n",
      " ('in', 'IN', 'O'),\n",
      " ('May', 'NNP', 'O'),\n",
      " ('to', 'TO', 'O'),\n",
      " ('crack', 'VB', 'O'),\n",
      " ('down', 'RP', 'O'),\n",
      " ('on', 'IN', 'O'),\n",
      " ('fake', 'JJ', 'O'),\n",
      " ('accounts', 'NNS', 'O'),\n",
      " ('and', 'CC', 'O'),\n",
      " ('misinformation.Sheryl', 'NN', 'B-NP'),\n",
      " ('Sandberg', 'NNP', 'O'),\n",
      " ('said', 'VBD', 'O'),\n",
      " ('the', 'DT', 'B-NP'),\n",
      " ('company', 'NN', 'I-NP'),\n",
      " ('will', 'MD', 'O'),\n",
      " ('work', 'VB', 'O'),\n",
      " ('with', 'IN', 'O'),\n",
      " ('the', 'DT', 'O'),\n",
      " ('German', 'JJ', 'O'),\n",
      " ('Federal', 'NNP', 'O'),\n",
      " ('Office', 'NNP', 'O'),\n",
      " ('for', 'IN', 'O'),\n",
      " ('Information', 'NNP', 'O'),\n",
      " ('and', 'CC', 'O'),\n",
      " ('Security', 'NNP', 'O'),\n",
      " ('as', 'RB', 'O'),\n",
      " ('well', 'RB', 'O'),\n",
      " ('as', 'IN', 'O'),\n",
      " ('other', 'JJ', 'O'),\n",
      " ('companies', 'NNS', 'O'),\n",
      " ('and', 'CC', 'O'),\n",
      " ('research', 'NN', 'B-NP'),\n",
      " ('partners', 'NNS', 'O'),\n",
      " ('to', 'TO', 'O'),\n",
      " ('help', 'VB', 'O'),\n",
      " ('guide', 'VB', 'O'),\n",
      " ('policy', 'NN', 'B-NP'),\n",
      " ('making', 'NN', 'B-NP'),\n",
      " ('in', 'IN', 'O'),\n",
      " ('Germany', 'NNP', 'O'),\n",
      " ('and', 'CC', 'O'),\n",
      " ('across', 'IN', 'O'),\n",
      " ('the', 'DT', 'O'),\n",
      " ('EU', 'NNP', 'O'),\n",
      " ('on', 'IN', 'O'),\n",
      " ('election', 'NN', 'B-NP'),\n",
      " ('interference', 'NN', 'B-NP'),\n",
      " ('.', '.', 'O')]\n"
     ]
    }
   ],
   "source": [
    "#Represent chunk in IOB format. Format: Token, POS tag, chunk tage\n",
    "input_iob_tagged = tree2conlltags(input_data_chunk)\n",
    "pprint(input_iob_tagged)"
   ]
  },
  {
   "cell_type": "code",
   "execution_count": 10,
   "metadata": {},
   "outputs": [
    {
     "name": "stdout",
     "output_type": "stream",
     "text": [
      "(S\n",
      "  (GPE Facebook/NNP)\n",
      "  will/MD\n",
      "  partner/NN\n",
      "  with/IN\n",
      "  (GPE German/JJ)\n",
      "  officials/NNS\n",
      "  ahead/RB\n",
      "  of/IN\n",
      "  the/DT\n",
      "  (ORGANIZATION European/NNP Union/NNP)\n",
      "  elections/NNS\n",
      "  in/IN\n",
      "  May/NNP\n",
      "  to/TO\n",
      "  crack/VB\n",
      "  down/RP\n",
      "  on/IN\n",
      "  fake/JJ\n",
      "  accounts/NNS\n",
      "  and/CC\n",
      "  misinformation.Sheryl/NN\n",
      "  (PERSON Sandberg/NNP)\n",
      "  said/VBD\n",
      "  the/DT\n",
      "  company/NN\n",
      "  will/MD\n",
      "  work/VB\n",
      "  with/IN\n",
      "  the/DT\n",
      "  (ORGANIZATION German/JJ Federal/NNP)\n",
      "  Office/NNP\n",
      "  for/IN\n",
      "  (ORGANIZATION Information/NNP)\n",
      "  and/CC\n",
      "  (ORGANIZATION Security/NNP)\n",
      "  as/RB\n",
      "  well/RB\n",
      "  as/IN\n",
      "  other/JJ\n",
      "  companies/NNS\n",
      "  and/CC\n",
      "  research/NN\n",
      "  partners/NNS\n",
      "  to/TO\n",
      "  help/VB\n",
      "  guide/VB\n",
      "  policy/NN\n",
      "  making/NN\n",
      "  in/IN\n",
      "  (GPE Germany/NNP)\n",
      "  and/CC\n",
      "  across/IN\n",
      "  the/DT\n",
      "  (GPE EU/NNP)\n",
      "  on/IN\n",
      "  election/NN\n",
      "  interference/NN\n",
      "  ./.)\n"
     ]
    }
   ],
   "source": [
    "ne_tree = nltk.ne_chunk(nltk.pos_tag(nltk.word_tokenize(input_data)))\n",
    "print(ne_tree)"
   ]
  },
  {
   "cell_type": "markdown",
   "metadata": {},
   "source": [
    "# 2. SpaCy\n",
    "\n",
    "https://spacy.io/api/annotation#section-named-entities"
   ]
  },
  {
   "cell_type": "markdown",
   "metadata": {},
   "source": [
    "SpaCy models : https://github.com/explosion/spacy-models"
   ]
  },
  {
   "cell_type": "code",
   "execution_count": 15,
   "metadata": {},
   "outputs": [],
   "source": [
    "import spacy\n",
    "import en_core_web_sm"
   ]
  },
  {
   "cell_type": "code",
   "execution_count": 16,
   "metadata": {},
   "outputs": [],
   "source": [
    "nlp_model = en_core_web_sm.load()"
   ]
  },
  {
   "cell_type": "code",
   "execution_count": 17,
   "metadata": {},
   "outputs": [],
   "source": [
    "data = nlp_model('Facebook will partner with German officials ahead of the European Union elections in May to crack down on fake accounts and misinformation.Sheryl Sandberg said the company will work with the German Federal Office for Information and Security as well as other companies and research partners to help guide policy making in Germany and across the EU on election interference.')"
   ]
  },
  {
   "cell_type": "code",
   "execution_count": 18,
   "metadata": {},
   "outputs": [
    {
     "name": "stdout",
     "output_type": "stream",
     "text": [
      "[('Facebook', 'ORG'),\n",
      " ('German', 'NORP'),\n",
      " ('the European Union', 'ORG'),\n",
      " ('May', 'DATE'),\n",
      " ('Sheryl Sandberg', 'PERSON'),\n",
      " ('the German Federal Office for Information and Security', 'ORG'),\n",
      " ('Germany', 'GPE'),\n",
      " ('EU', 'ORG')]\n"
     ]
    }
   ],
   "source": [
    "#Displaying entity\n",
    "pprint([(X.text, X.label_) for X in data.ents])"
   ]
  },
  {
   "cell_type": "markdown",
   "metadata": {},
   "source": [
    "## 2.1 SpaCy POS tag\n",
    "\n",
    "https://spacy.io/usage/linguistic-features#section-pos-tagging\n",
    "\n",
    "https://spacy.io/api/token#attributes"
   ]
  },
  {
   "cell_type": "code",
   "execution_count": 22,
   "metadata": {},
   "outputs": [
    {
     "name": "stdout",
     "output_type": "stream",
     "text": [
      "Facebook facebook PROPN NNP\n",
      "will will VERB MD\n",
      "partner partner VERB VB\n",
      "with with ADP IN\n",
      "German german ADJ JJ\n",
      "officials official NOUN NNS\n",
      "ahead ahead ADV RB\n",
      "of of ADP IN\n",
      "the the DET DT\n",
      "European european PROPN NNP\n",
      "Union union PROPN NNP\n",
      "elections election NOUN NNS\n",
      "in in ADP IN\n",
      "May may PROPN NNP\n",
      "to to PART TO\n",
      "crack crack VERB VB\n",
      "down down PART RP\n",
      "on on ADP IN\n",
      "fake fake ADJ JJ\n",
      "accounts account NOUN NNS\n",
      "and and CCONJ CC\n",
      "misinformation misinformation NOUN NN\n",
      ". . PUNCT .\n",
      "Sheryl sheryl PROPN NNP\n",
      "Sandberg sandberg PROPN NNP\n",
      "said say VERB VBD\n",
      "the the DET DT\n",
      "company company NOUN NN\n",
      "will will VERB MD\n",
      "work work VERB VB\n",
      "with with ADP IN\n",
      "the the DET DT\n",
      "German german PROPN NNP\n",
      "Federal federal PROPN NNP\n",
      "Office office PROPN NNP\n",
      "for for ADP IN\n",
      "Information information PROPN NNP\n",
      "and and CCONJ CC\n",
      "Security security PROPN NNP\n",
      "as as ADV RB\n",
      "well well ADV RB\n",
      "as as ADP IN\n",
      "other other ADJ JJ\n",
      "companies company NOUN NNS\n",
      "and and CCONJ CC\n",
      "research research NOUN NN\n",
      "partners partner NOUN NNS\n",
      "to to PART TO\n",
      "help help VERB VB\n",
      "guide guide VERB VB\n",
      "policy policy NOUN NN\n",
      "making making NOUN NN\n",
      "in in ADP IN\n",
      "Germany germany PROPN NNP\n",
      "and and CCONJ CC\n",
      "across across ADP IN\n",
      "the the DET DT\n",
      "EU eu PROPN NNP\n",
      "on on ADP IN\n",
      "election election NOUN NN\n",
      "interference interference NOUN NN\n",
      ". . PUNCT .\n"
     ]
    }
   ],
   "source": [
    "for token in data:\n",
    "    print(token.text, token.lemma_, token.pos_, token.tag_)"
   ]
  },
  {
   "cell_type": "markdown",
   "metadata": {},
   "source": [
    "# 2.2 Entity tag\n",
    "\n",
    "- BILUO Scheme tag: https://spacy.io/api/annotation#section-pos-tagging\n",
    "- Entity: https://spacy.io/api/annotation#section-named-entities"
   ]
  },
  {
   "cell_type": "code",
   "execution_count": 19,
   "metadata": {},
   "outputs": [
    {
     "name": "stdout",
     "output_type": "stream",
     "text": [
      "[(Facebook, 'B', 'ORG'),\n",
      " (will, 'O', ''),\n",
      " (partner, 'O', ''),\n",
      " (with, 'O', ''),\n",
      " (German, 'B', 'NORP'),\n",
      " (officials, 'O', ''),\n",
      " (ahead, 'O', ''),\n",
      " (of, 'O', ''),\n",
      " (the, 'B', 'ORG'),\n",
      " (European, 'I', 'ORG'),\n",
      " (Union, 'I', 'ORG'),\n",
      " (elections, 'O', ''),\n",
      " (in, 'O', ''),\n",
      " (May, 'B', 'DATE'),\n",
      " (to, 'O', ''),\n",
      " (crack, 'O', ''),\n",
      " (down, 'O', ''),\n",
      " (on, 'O', ''),\n",
      " (fake, 'O', ''),\n",
      " (accounts, 'O', ''),\n",
      " (and, 'O', ''),\n",
      " (misinformation, 'O', ''),\n",
      " (., 'O', ''),\n",
      " (Sheryl, 'B', 'PERSON'),\n",
      " (Sandberg, 'I', 'PERSON'),\n",
      " (said, 'O', ''),\n",
      " (the, 'O', ''),\n",
      " (company, 'O', ''),\n",
      " (will, 'O', ''),\n",
      " (work, 'O', ''),\n",
      " (with, 'O', ''),\n",
      " (the, 'B', 'ORG'),\n",
      " (German, 'I', 'ORG'),\n",
      " (Federal, 'I', 'ORG'),\n",
      " (Office, 'I', 'ORG'),\n",
      " (for, 'I', 'ORG'),\n",
      " (Information, 'I', 'ORG'),\n",
      " (and, 'I', 'ORG'),\n",
      " (Security, 'I', 'ORG'),\n",
      " (as, 'O', ''),\n",
      " (well, 'O', ''),\n",
      " (as, 'O', ''),\n",
      " (other, 'O', ''),\n",
      " (companies, 'O', ''),\n",
      " (and, 'O', ''),\n",
      " (research, 'O', ''),\n",
      " (partners, 'O', ''),\n",
      " (to, 'O', ''),\n",
      " (help, 'O', ''),\n",
      " (guide, 'O', ''),\n",
      " (policy, 'O', ''),\n",
      " (making, 'O', ''),\n",
      " (in, 'O', ''),\n",
      " (Germany, 'B', 'GPE'),\n",
      " (and, 'O', ''),\n",
      " (across, 'O', ''),\n",
      " (the, 'O', ''),\n",
      " (EU, 'B', 'ORG'),\n",
      " (on, 'O', ''),\n",
      " (election, 'O', ''),\n",
      " (interference, 'O', ''),\n",
      " (., 'O', '')]\n"
     ]
    }
   ],
   "source": [
    "#token level entity annotation\n",
    "pprint([(X, X.ent_iob_, X.ent_type_) for X in data])"
   ]
  },
  {
   "cell_type": "code",
   "execution_count": 20,
   "metadata": {},
   "outputs": [
    {
     "data": {
      "text/html": [
       "<div class=\"entities\" style=\"line-height: 2.5\">\n",
       "<mark class=\"entity\" style=\"background: #7aecec; padding: 0.45em 0.6em; margin: 0 0.25em; line-height: 1; border-radius: 0.35em; box-decoration-break: clone; -webkit-box-decoration-break: clone\">\n",
       "    Facebook\n",
       "    <span style=\"font-size: 0.8em; font-weight: bold; line-height: 1; border-radius: 0.35em; text-transform: uppercase; vertical-align: middle; margin-left: 0.5rem\">ORG</span>\n",
       "</mark>\n",
       " will partner with \n",
       "<mark class=\"entity\" style=\"background: #c887fb; padding: 0.45em 0.6em; margin: 0 0.25em; line-height: 1; border-radius: 0.35em; box-decoration-break: clone; -webkit-box-decoration-break: clone\">\n",
       "    German\n",
       "    <span style=\"font-size: 0.8em; font-weight: bold; line-height: 1; border-radius: 0.35em; text-transform: uppercase; vertical-align: middle; margin-left: 0.5rem\">NORP</span>\n",
       "</mark>\n",
       " officials ahead of \n",
       "<mark class=\"entity\" style=\"background: #7aecec; padding: 0.45em 0.6em; margin: 0 0.25em; line-height: 1; border-radius: 0.35em; box-decoration-break: clone; -webkit-box-decoration-break: clone\">\n",
       "    the European Union\n",
       "    <span style=\"font-size: 0.8em; font-weight: bold; line-height: 1; border-radius: 0.35em; text-transform: uppercase; vertical-align: middle; margin-left: 0.5rem\">ORG</span>\n",
       "</mark>\n",
       " elections in \n",
       "<mark class=\"entity\" style=\"background: #bfe1d9; padding: 0.45em 0.6em; margin: 0 0.25em; line-height: 1; border-radius: 0.35em; box-decoration-break: clone; -webkit-box-decoration-break: clone\">\n",
       "    May\n",
       "    <span style=\"font-size: 0.8em; font-weight: bold; line-height: 1; border-radius: 0.35em; text-transform: uppercase; vertical-align: middle; margin-left: 0.5rem\">DATE</span>\n",
       "</mark>\n",
       " to crack down on fake accounts and misinformation.\n",
       "<mark class=\"entity\" style=\"background: #aa9cfc; padding: 0.45em 0.6em; margin: 0 0.25em; line-height: 1; border-radius: 0.35em; box-decoration-break: clone; -webkit-box-decoration-break: clone\">\n",
       "    Sheryl Sandberg\n",
       "    <span style=\"font-size: 0.8em; font-weight: bold; line-height: 1; border-radius: 0.35em; text-transform: uppercase; vertical-align: middle; margin-left: 0.5rem\">PERSON</span>\n",
       "</mark>\n",
       " said the company will work with \n",
       "<mark class=\"entity\" style=\"background: #7aecec; padding: 0.45em 0.6em; margin: 0 0.25em; line-height: 1; border-radius: 0.35em; box-decoration-break: clone; -webkit-box-decoration-break: clone\">\n",
       "    the German Federal Office for Information and Security\n",
       "    <span style=\"font-size: 0.8em; font-weight: bold; line-height: 1; border-radius: 0.35em; text-transform: uppercase; vertical-align: middle; margin-left: 0.5rem\">ORG</span>\n",
       "</mark>\n",
       " as well as other companies and research partners to help guide policy making in \n",
       "<mark class=\"entity\" style=\"background: #feca74; padding: 0.45em 0.6em; margin: 0 0.25em; line-height: 1; border-radius: 0.35em; box-decoration-break: clone; -webkit-box-decoration-break: clone\">\n",
       "    Germany\n",
       "    <span style=\"font-size: 0.8em; font-weight: bold; line-height: 1; border-radius: 0.35em; text-transform: uppercase; vertical-align: middle; margin-left: 0.5rem\">GPE</span>\n",
       "</mark>\n",
       " and across the \n",
       "<mark class=\"entity\" style=\"background: #7aecec; padding: 0.45em 0.6em; margin: 0 0.25em; line-height: 1; border-radius: 0.35em; box-decoration-break: clone; -webkit-box-decoration-break: clone\">\n",
       "    EU\n",
       "    <span style=\"font-size: 0.8em; font-weight: bold; line-height: 1; border-radius: 0.35em; text-transform: uppercase; vertical-align: middle; margin-left: 0.5rem\">ORG</span>\n",
       "</mark>\n",
       " on election interference.</div>"
      ],
      "text/plain": [
       "<IPython.core.display.HTML object>"
      ]
     },
     "metadata": {},
     "output_type": "display_data"
    }
   ],
   "source": [
    "from spacy import displacy\n",
    "displacy.render(nlp_model(str(data)), jupyter=True, style='ent')"
   ]
  },
  {
   "cell_type": "markdown",
   "metadata": {},
   "source": [
    "# 3. Using NLTK with SpaCy"
   ]
  },
  {
   "cell_type": "code",
   "execution_count": 41,
   "metadata": {},
   "outputs": [],
   "source": [
    "sentence = 'Facebook will partner with German officials ahead of the European Union elections in May to crack down on fake accounts and misinformation.Sheryl Sandberg said the company will work with the German Federal Office for Information and Security as well as other companies and research partners to help guide policy making in Germany and across the EU on election interference.'"
   ]
  },
  {
   "cell_type": "code",
   "execution_count": 42,
   "metadata": {},
   "outputs": [],
   "source": [
    "spacy_sentence = nlp_model(sentence)"
   ]
  },
  {
   "cell_type": "code",
   "execution_count": 43,
   "metadata": {},
   "outputs": [
    {
     "data": {
      "text/plain": [
       "Facebook will partner with German officials ahead of the European Union elections in May to crack down on fake accounts and misinformation.Sheryl Sandberg said the company will work with the German Federal Office for Information and Security as well as other companies and research partners to help guide policy making in Germany and across the EU on election interference."
      ]
     },
     "execution_count": 43,
     "metadata": {},
     "output_type": "execute_result"
    }
   ],
   "source": [
    "spacy_sentence"
   ]
  },
  {
   "cell_type": "code",
   "execution_count": 44,
   "metadata": {},
   "outputs": [],
   "source": [
    "iob_tagged = []\n",
    "for token in spacy_sentence:\n",
    "    if token.ent_iob_ != 'O':\n",
    "        iob_tagged.append((token.text, token.tag_, \"{0}-{1}\".format(token.ent_iob_, token.ent_type_)))\n",
    "    else:\n",
    "        iob_tagged.append((token.text, token.tag_,token.ent_iob_))"
   ]
  },
  {
   "cell_type": "code",
   "execution_count": 45,
   "metadata": {},
   "outputs": [
    {
     "data": {
      "text/plain": [
       "[('Facebook', 'NNP', 'B-ORG'),\n",
       " ('will', 'MD', 'O'),\n",
       " ('partner', 'VB', 'O'),\n",
       " ('with', 'IN', 'O'),\n",
       " ('German', 'JJ', 'B-NORP'),\n",
       " ('officials', 'NNS', 'O'),\n",
       " ('ahead', 'RB', 'O'),\n",
       " ('of', 'IN', 'O'),\n",
       " ('the', 'DT', 'B-ORG'),\n",
       " ('European', 'NNP', 'I-ORG'),\n",
       " ('Union', 'NNP', 'I-ORG'),\n",
       " ('elections', 'NNS', 'O'),\n",
       " ('in', 'IN', 'O'),\n",
       " ('May', 'NNP', 'B-DATE'),\n",
       " ('to', 'TO', 'O'),\n",
       " ('crack', 'VB', 'O'),\n",
       " ('down', 'RP', 'O'),\n",
       " ('on', 'IN', 'O'),\n",
       " ('fake', 'JJ', 'O'),\n",
       " ('accounts', 'NNS', 'O'),\n",
       " ('and', 'CC', 'O'),\n",
       " ('misinformation', 'NN', 'O'),\n",
       " ('.', '.', 'O'),\n",
       " ('Sheryl', 'NNP', 'B-PERSON'),\n",
       " ('Sandberg', 'NNP', 'I-PERSON'),\n",
       " ('said', 'VBD', 'O'),\n",
       " ('the', 'DT', 'O'),\n",
       " ('company', 'NN', 'O'),\n",
       " ('will', 'MD', 'O'),\n",
       " ('work', 'VB', 'O'),\n",
       " ('with', 'IN', 'O'),\n",
       " ('the', 'DT', 'B-ORG'),\n",
       " ('German', 'NNP', 'I-ORG'),\n",
       " ('Federal', 'NNP', 'I-ORG'),\n",
       " ('Office', 'NNP', 'I-ORG'),\n",
       " ('for', 'IN', 'I-ORG'),\n",
       " ('Information', 'NNP', 'I-ORG'),\n",
       " ('and', 'CC', 'I-ORG'),\n",
       " ('Security', 'NNP', 'I-ORG'),\n",
       " ('as', 'RB', 'O'),\n",
       " ('well', 'RB', 'O'),\n",
       " ('as', 'IN', 'O'),\n",
       " ('other', 'JJ', 'O'),\n",
       " ('companies', 'NNS', 'O'),\n",
       " ('and', 'CC', 'O'),\n",
       " ('research', 'NN', 'O'),\n",
       " ('partners', 'NNS', 'O'),\n",
       " ('to', 'TO', 'O'),\n",
       " ('help', 'VB', 'O'),\n",
       " ('guide', 'VB', 'O'),\n",
       " ('policy', 'NN', 'O'),\n",
       " ('making', 'NN', 'O'),\n",
       " ('in', 'IN', 'O'),\n",
       " ('Germany', 'NNP', 'B-GPE'),\n",
       " ('and', 'CC', 'O'),\n",
       " ('across', 'IN', 'O'),\n",
       " ('the', 'DT', 'O'),\n",
       " ('EU', 'NNP', 'B-ORG'),\n",
       " ('on', 'IN', 'O'),\n",
       " ('election', 'NN', 'O'),\n",
       " ('interference', 'NN', 'O'),\n",
       " ('.', '.', 'O')]"
      ]
     },
     "execution_count": 45,
     "metadata": {},
     "output_type": "execute_result"
    }
   ],
   "source": [
    "iob_tagged"
   ]
  },
  {
   "cell_type": "code",
   "execution_count": null,
   "metadata": {},
   "outputs": [],
   "source": []
  }
 ],
 "metadata": {
  "kernelspec": {
   "display_name": "Python 3",
   "language": "python",
   "name": "python3"
  },
  "language_info": {
   "codemirror_mode": {
    "name": "ipython",
    "version": 3
   },
   "file_extension": ".py",
   "mimetype": "text/x-python",
   "name": "python",
   "nbconvert_exporter": "python",
   "pygments_lexer": "ipython3",
   "version": "3.7.0"
  }
 },
 "nbformat": 4,
 "nbformat_minor": 2
}
